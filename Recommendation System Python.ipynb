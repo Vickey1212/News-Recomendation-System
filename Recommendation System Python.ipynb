{
 "cells": [
  {
   "cell_type": "code",
   "execution_count": 6,
   "metadata": {},
   "outputs": [
    {
     "ename": "NoSuchWindowException",
     "evalue": "Message: no such window: target window already closed\nfrom unknown error: web view not found\n  (Session info: chrome=131.0.6778.140)\nStacktrace:\n\tGetHandleVerifier [0x00CD34A3+25059]\n\t(No symbol) [0x00C5CEA4]\n\t(No symbol) [0x00B3BEC3]\n\t(No symbol) [0x00B1D93B]\n\t(No symbol) [0x00BA800F]\n\t(No symbol) [0x00BBAE49]\n\t(No symbol) [0x00BA1C96]\n\t(No symbol) [0x00B73FAC]\n\t(No symbol) [0x00B74F3D]\n\tGetHandleVerifier [0x00FC5613+3113811]\n\tGetHandleVerifier [0x00FDA2DA+3199002]\n\tGetHandleVerifier [0x00FD2AB2+3168242]\n\tGetHandleVerifier [0x00D73310+680016]\n\t(No symbol) [0x00C657ED]\n\t(No symbol) [0x00C62A98]\n\t(No symbol) [0x00C62C35]\n\t(No symbol) [0x00C55890]\n\tBaseThreadInitThunk [0x75587BA9+25]\n\tRtlInitializeExceptionChain [0x777FC0CB+107]\n\tRtlClearBits [0x777FC04F+191]\n",
     "output_type": "error",
     "traceback": [
      "\u001b[1;31m---------------------------------------------------------------------------\u001b[0m",
      "\u001b[1;31mNoSuchWindowException\u001b[0m                     Traceback (most recent call last)",
      "Cell \u001b[1;32mIn[6], line 54\u001b[0m\n\u001b[0;32m     52\u001b[0m \u001b[38;5;28;01mif\u001b[39;00m \u001b[38;5;18m__name__\u001b[39m \u001b[38;5;241m==\u001b[39m \u001b[38;5;124m\"\u001b[39m\u001b[38;5;124m__main__\u001b[39m\u001b[38;5;124m\"\u001b[39m:\n\u001b[0;32m     53\u001b[0m     user_input \u001b[38;5;241m=\u001b[39m \u001b[38;5;28minput\u001b[39m(\u001b[38;5;124m\"\u001b[39m\u001b[38;5;124mEnter a topic of interest (e.g., sports, cricket, football, education, politics): \u001b[39m\u001b[38;5;124m\"\u001b[39m)\u001b[38;5;241m.\u001b[39mstrip()\n\u001b[1;32m---> 54\u001b[0m     \u001b[43mget_news_articles\u001b[49m\u001b[43m(\u001b[49m\u001b[43muser_input\u001b[49m\u001b[43m)\u001b[49m\n",
      "Cell \u001b[1;32mIn[6], line 49\u001b[0m, in \u001b[0;36mget_news_articles\u001b[1;34m(keyword)\u001b[0m\n\u001b[0;32m     46\u001b[0m     \u001b[38;5;28mprint\u001b[39m(\u001b[38;5;124m\"\u001b[39m\u001b[38;5;124mPlease enter a valid topic.\u001b[39m\u001b[38;5;124m\"\u001b[39m)\n\u001b[0;32m     47\u001b[0m     \u001b[38;5;28;01mreturn\u001b[39;00m\n\u001b[1;32m---> 49\u001b[0m articles \u001b[38;5;241m=\u001b[39m \u001b[43mfetch_articles_from_bbc\u001b[49m\u001b[43m(\u001b[49m\u001b[43mkeyword\u001b[49m\u001b[43m)\u001b[49m\n\u001b[0;32m     50\u001b[0m display_articles(articles)\n",
      "Cell \u001b[1;32mIn[6], line 25\u001b[0m, in \u001b[0;36mfetch_articles_from_bbc\u001b[1;34m(keyword)\u001b[0m\n\u001b[0;32m     23\u001b[0m \u001b[38;5;66;03m# Get the page source after JavaScript content has loaded\u001b[39;00m\n\u001b[0;32m     24\u001b[0m articles \u001b[38;5;241m=\u001b[39m []\n\u001b[1;32m---> 25\u001b[0m links \u001b[38;5;241m=\u001b[39m \u001b[43mdriver\u001b[49m\u001b[38;5;241;43m.\u001b[39;49m\u001b[43mfind_elements\u001b[49m\u001b[43m(\u001b[49m\u001b[43mBy\u001b[49m\u001b[38;5;241;43m.\u001b[39;49m\u001b[43mCSS_SELECTOR\u001b[49m\u001b[43m,\u001b[49m\u001b[43m \u001b[49m\u001b[38;5;124;43m'\u001b[39;49m\u001b[38;5;124;43ma[href*=\u001b[39;49m\u001b[38;5;124;43m\"\u001b[39;49m\u001b[38;5;124;43m/news/\u001b[39;49m\u001b[38;5;124;43m\"\u001b[39;49m\u001b[38;5;124;43m]\u001b[39;49m\u001b[38;5;124;43m'\u001b[39;49m\u001b[43m)\u001b[49m\n\u001b[0;32m     27\u001b[0m \u001b[38;5;28;01mfor\u001b[39;00m link \u001b[38;5;129;01min\u001b[39;00m links:\n\u001b[0;32m     28\u001b[0m     title \u001b[38;5;241m=\u001b[39m link\u001b[38;5;241m.\u001b[39mtext\u001b[38;5;241m.\u001b[39mstrip()\n",
      "File \u001b[1;32m~\\AppData\\Local\\Packages\\PythonSoftwareFoundation.Python.3.11_qbz5n2kfra8p0\\LocalCache\\local-packages\\Python311\\site-packages\\selenium\\webdriver\\remote\\webdriver.py:778\u001b[0m, in \u001b[0;36mWebDriver.find_elements\u001b[1;34m(self, by, value)\u001b[0m\n\u001b[0;32m    774\u001b[0m     value \u001b[38;5;241m=\u001b[39m \u001b[38;5;124mf\u001b[39m\u001b[38;5;124m'\u001b[39m\u001b[38;5;124m[name=\u001b[39m\u001b[38;5;124m\"\u001b[39m\u001b[38;5;132;01m{\u001b[39;00mvalue\u001b[38;5;132;01m}\u001b[39;00m\u001b[38;5;124m\"\u001b[39m\u001b[38;5;124m]\u001b[39m\u001b[38;5;124m'\u001b[39m\n\u001b[0;32m    776\u001b[0m \u001b[38;5;66;03m# Return empty list if driver returns null\u001b[39;00m\n\u001b[0;32m    777\u001b[0m \u001b[38;5;66;03m# See https://github.com/SeleniumHQ/selenium/issues/4555\u001b[39;00m\n\u001b[1;32m--> 778\u001b[0m \u001b[38;5;28;01mreturn\u001b[39;00m \u001b[38;5;28;43mself\u001b[39;49m\u001b[38;5;241;43m.\u001b[39;49m\u001b[43mexecute\u001b[49m\u001b[43m(\u001b[49m\u001b[43mCommand\u001b[49m\u001b[38;5;241;43m.\u001b[39;49m\u001b[43mFIND_ELEMENTS\u001b[49m\u001b[43m,\u001b[49m\u001b[43m \u001b[49m\u001b[43m{\u001b[49m\u001b[38;5;124;43m\"\u001b[39;49m\u001b[38;5;124;43musing\u001b[39;49m\u001b[38;5;124;43m\"\u001b[39;49m\u001b[43m:\u001b[49m\u001b[43m \u001b[49m\u001b[43mby\u001b[49m\u001b[43m,\u001b[49m\u001b[43m \u001b[49m\u001b[38;5;124;43m\"\u001b[39;49m\u001b[38;5;124;43mvalue\u001b[39;49m\u001b[38;5;124;43m\"\u001b[39;49m\u001b[43m:\u001b[49m\u001b[43m \u001b[49m\u001b[43mvalue\u001b[49m\u001b[43m}\u001b[49m\u001b[43m)\u001b[49m[\u001b[38;5;124m\"\u001b[39m\u001b[38;5;124mvalue\u001b[39m\u001b[38;5;124m\"\u001b[39m] \u001b[38;5;129;01mor\u001b[39;00m []\n",
      "File \u001b[1;32m~\\AppData\\Local\\Packages\\PythonSoftwareFoundation.Python.3.11_qbz5n2kfra8p0\\LocalCache\\local-packages\\Python311\\site-packages\\selenium\\webdriver\\remote\\webdriver.py:354\u001b[0m, in \u001b[0;36mWebDriver.execute\u001b[1;34m(self, driver_command, params)\u001b[0m\n\u001b[0;32m    352\u001b[0m response \u001b[38;5;241m=\u001b[39m \u001b[38;5;28mself\u001b[39m\u001b[38;5;241m.\u001b[39mcommand_executor\u001b[38;5;241m.\u001b[39mexecute(driver_command, params)\n\u001b[0;32m    353\u001b[0m \u001b[38;5;28;01mif\u001b[39;00m response:\n\u001b[1;32m--> 354\u001b[0m     \u001b[38;5;28;43mself\u001b[39;49m\u001b[38;5;241;43m.\u001b[39;49m\u001b[43merror_handler\u001b[49m\u001b[38;5;241;43m.\u001b[39;49m\u001b[43mcheck_response\u001b[49m\u001b[43m(\u001b[49m\u001b[43mresponse\u001b[49m\u001b[43m)\u001b[49m\n\u001b[0;32m    355\u001b[0m     response[\u001b[38;5;124m\"\u001b[39m\u001b[38;5;124mvalue\u001b[39m\u001b[38;5;124m\"\u001b[39m] \u001b[38;5;241m=\u001b[39m \u001b[38;5;28mself\u001b[39m\u001b[38;5;241m.\u001b[39m_unwrap_value(response\u001b[38;5;241m.\u001b[39mget(\u001b[38;5;124m\"\u001b[39m\u001b[38;5;124mvalue\u001b[39m\u001b[38;5;124m\"\u001b[39m, \u001b[38;5;28;01mNone\u001b[39;00m))\n\u001b[0;32m    356\u001b[0m     \u001b[38;5;28;01mreturn\u001b[39;00m response\n",
      "File \u001b[1;32m~\\AppData\\Local\\Packages\\PythonSoftwareFoundation.Python.3.11_qbz5n2kfra8p0\\LocalCache\\local-packages\\Python311\\site-packages\\selenium\\webdriver\\remote\\errorhandler.py:229\u001b[0m, in \u001b[0;36mErrorHandler.check_response\u001b[1;34m(self, response)\u001b[0m\n\u001b[0;32m    227\u001b[0m         alert_text \u001b[38;5;241m=\u001b[39m value[\u001b[38;5;124m\"\u001b[39m\u001b[38;5;124malert\u001b[39m\u001b[38;5;124m\"\u001b[39m]\u001b[38;5;241m.\u001b[39mget(\u001b[38;5;124m\"\u001b[39m\u001b[38;5;124mtext\u001b[39m\u001b[38;5;124m\"\u001b[39m)\n\u001b[0;32m    228\u001b[0m     \u001b[38;5;28;01mraise\u001b[39;00m exception_class(message, screen, stacktrace, alert_text)  \u001b[38;5;66;03m# type: ignore[call-arg]  # mypy is not smart enough here\u001b[39;00m\n\u001b[1;32m--> 229\u001b[0m \u001b[38;5;28;01mraise\u001b[39;00m exception_class(message, screen, stacktrace)\n",
      "\u001b[1;31mNoSuchWindowException\u001b[0m: Message: no such window: target window already closed\nfrom unknown error: web view not found\n  (Session info: chrome=131.0.6778.140)\nStacktrace:\n\tGetHandleVerifier [0x00CD34A3+25059]\n\t(No symbol) [0x00C5CEA4]\n\t(No symbol) [0x00B3BEC3]\n\t(No symbol) [0x00B1D93B]\n\t(No symbol) [0x00BA800F]\n\t(No symbol) [0x00BBAE49]\n\t(No symbol) [0x00BA1C96]\n\t(No symbol) [0x00B73FAC]\n\t(No symbol) [0x00B74F3D]\n\tGetHandleVerifier [0x00FC5613+3113811]\n\tGetHandleVerifier [0x00FDA2DA+3199002]\n\tGetHandleVerifier [0x00FD2AB2+3168242]\n\tGetHandleVerifier [0x00D73310+680016]\n\t(No symbol) [0x00C657ED]\n\t(No symbol) [0x00C62A98]\n\t(No symbol) [0x00C62C35]\n\t(No symbol) [0x00C55890]\n\tBaseThreadInitThunk [0x75587BA9+25]\n\tRtlInitializeExceptionChain [0x777FC0CB+107]\n\tRtlClearBits [0x777FC04F+191]\n"
     ]
    }
   ],
   "source": [
    "from selenium import webdriver\n",
    "from selenium.webdriver.chrome.service import Service\n",
    "from selenium.webdriver.common.by import By\n",
    "from selenium.webdriver.chrome.options import Options\n",
    "from webdriver_manager.chrome import ChromeDriverManager\n",
    "from time import sleep\n",
    "\n",
    "def init_driver():\n",
    "    # Setup headless Chrome browser\n",
    "    options = Options()\n",
    "    options.headless = True  # Run headless (no browser window)\n",
    "    driver = webdriver.Chrome(service=Service(ChromeDriverManager().install()), options=options)\n",
    "    return driver\n",
    "\n",
    "def fetch_articles_from_bbc(keyword):\n",
    "    search_url = f'https://www.bbc.com/search?q={keyword}'\n",
    "    driver = init_driver()\n",
    "    driver.get(search_url)\n",
    "\n",
    "    # Wait for the page to load\n",
    "    sleep(3)  # Ensure dynamic content is loaded\n",
    "\n",
    "    # Get the page source after JavaScript content has loaded\n",
    "    articles = []\n",
    "    links = driver.find_elements(By.CSS_SELECTOR, 'a[href*=\"/news/\"]')\n",
    "\n",
    "    for link in links:\n",
    "        title = link.text.strip()\n",
    "        href = link.get_attribute('href')\n",
    "        if keyword.lower() in title.lower():  # Filter articles by keyword\n",
    "            articles.append((title, href))\n",
    "\n",
    "    driver.quit()  # Close the driver after scraping\n",
    "    return articles\n",
    "\n",
    "def display_articles(articles):\n",
    "    if articles:\n",
    "        print(\"\\nArticles from BBC related to your topic:\")\n",
    "        for i, (title, url) in enumerate(articles, 1):\n",
    "            print(f\"{i}. {title}\\n   Link: {url}\\n\")\n",
    "    else:\n",
    "        print(\"No articles found from BBC related to your topic.\\n\")\n",
    "\n",
    "def get_news_articles(keyword):\n",
    "    if not keyword:  # Check if keyword is empty\n",
    "        print(\"Please enter a valid topic.\")\n",
    "        return\n",
    "\n",
    "    articles = fetch_articles_from_bbc(keyword)\n",
    "    display_articles(articles)\n",
    "\n",
    "if __name__ == \"__main__\":\n",
    "    user_input = input(\"Enter a topic of interest (e.g., sports, cricket, football, education, politics): \").strip()\n",
    "    get_news_articles(user_input)"
   ]
  },
  {
   "cell_type": "code",
   "execution_count": null,
   "metadata": {},
   "outputs": [],
   "source": []
  },
  {
   "cell_type": "code",
   "execution_count": null,
   "metadata": {},
   "outputs": [],
   "source": []
  }
 ],
 "metadata": {
  "kernelspec": {
   "display_name": "Python 3",
   "language": "python",
   "name": "python3"
  },
  "language_info": {
   "codemirror_mode": {
    "name": "ipython",
    "version": 3
   },
   "file_extension": ".py",
   "mimetype": "text/x-python",
   "name": "python",
   "nbconvert_exporter": "python",
   "pygments_lexer": "ipython3",
   "version": "3.11.9"
  }
 },
 "nbformat": 4,
 "nbformat_minor": 2
}
